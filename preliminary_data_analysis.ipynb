{
 "cells": [
  {
   "cell_type": "markdown",
   "id": "09a2c3e8-0e1a-4479-94bf-ca69814c4a42",
   "metadata": {},
   "source": [
    "First, we will load the tidyverse package to be able to perform data analysis and visualization."
   ]
  },
  {
   "cell_type": "code",
   "execution_count": 13,
   "id": "b976d1c0-4f18-43f6-b974-958351575e09",
   "metadata": {},
   "outputs": [],
   "source": [
    "library(tidyverse)"
   ]
  },
  {
   "cell_type": "markdown",
   "id": "8faddd58-300a-4e63-a35c-61482e7a6e1c",
   "metadata": {},
   "source": [
    "Next we read in the data from the file. Although the dataset was provided as a .data file from the original source, the file contains comma-separated values, so we use read_csv. Since the data has no column names, we will rename them all using information available at [https://archive.ics.uci.edu/dataset/45/heart+disease]."
   ]
  },
  {
   "cell_type": "code",
   "execution_count": 15,
   "id": "16571a66-93da-4a12-865b-5f47e4acf26e",
   "metadata": {},
   "outputs": [
    {
     "name": "stderr",
     "output_type": "stream",
     "text": [
      "\u001b[1mRows: \u001b[22m\u001b[34m303\u001b[39m \u001b[1mColumns: \u001b[22m\u001b[34m14\u001b[39m\n",
      "\u001b[36m──\u001b[39m \u001b[1mColumn specification\u001b[22m \u001b[36m────────────────────────────────────────────────────────\u001b[39m\n",
      "\u001b[1mDelimiter:\u001b[22m \",\"\n",
      "\u001b[31mchr\u001b[39m  (2): X12, X13\n",
      "\u001b[32mdbl\u001b[39m (12): X1, X2, X3, X4, X5, X6, X7, X8, X9, X10, X11, X14\n",
      "\n",
      "\u001b[36mℹ\u001b[39m Use `spec()` to retrieve the full column specification for this data.\n",
      "\u001b[36mℹ\u001b[39m Specify the column types or set `show_col_types = FALSE` to quiet this message.\n"
     ]
    },
    {
     "name": "stdout",
     "output_type": "stream",
     "text": [
      "Rows: 303\n",
      "Columns: 7\n",
      "$ age                    \u001b[3m\u001b[90m<dbl>\u001b[39m\u001b[23m 63, 67, 67, 37, 41, 56, 62, 57, 63, 53, 57, 56,…\n",
      "$ sex                    \u001b[3m\u001b[90m<dbl>\u001b[39m\u001b[23m 1, 1, 1, 1, 0, 1, 0, 0, 1, 1, 1, 0, 1, 1, 1, 1,…\n",
      "$ chest_pain             \u001b[3m\u001b[90m<dbl>\u001b[39m\u001b[23m 1, 4, 4, 3, 2, 2, 4, 4, 4, 4, 4, 2, 3, 2, 3, 3,…\n",
      "$ resting_blood_pressure \u001b[3m\u001b[90m<dbl>\u001b[39m\u001b[23m 145, 160, 120, 130, 130, 120, 140, 120, 130, 14…\n",
      "$ cholesterol            \u001b[3m\u001b[90m<dbl>\u001b[39m\u001b[23m 233, 286, 229, 250, 204, 236, 268, 354, 254, 20…\n",
      "$ fasting_blood_sugar    \u001b[3m\u001b[90m<dbl>\u001b[39m\u001b[23m 1, 0, 0, 0, 0, 0, 0, 0, 0, 1, 0, 0, 1, 0, 1, 0,…\n",
      "$ diagnosis              \u001b[3m\u001b[90m<dbl>\u001b[39m\u001b[23m 0, 2, 1, 0, 0, 0, 3, 0, 2, 1, 0, 0, 2, 0, 0, 0,…\n"
     ]
    }
   ],
   "source": [
    "data <- read_csv(\"processed.cleveland.data\", col_names = FALSE) |>\n",
    "    rename(age = X1, sex = X2, chest_pain = X3, resting_blood_pressure = X4,\n",
    "           cholesterol = X5, fasting_blood_sugar = X6, #1 if above 120mg/L, 0 if below\n",
    "           resting_ecg = X7, max_heart_rate = X8, exercise_angina = X9,\n",
    "           st_depression = X10, slope = X11, major_vessels = X12, thal = X13,\n",
    "           diagnosis = X14)\n",
    "\n"
   ]
  },
  {
   "cell_type": "markdown",
   "id": "b03b7f1f-534f-4e4c-912a-762836214f58",
   "metadata": {},
   "source": [
    "Now since we don't want to use every variable in the data set, we will select only those that we are interested in."
   ]
  },
  {
   "cell_type": "code",
   "execution_count": 17,
   "id": "14be6ab0-1f54-41cb-8e81-8b3833496572",
   "metadata": {},
   "outputs": [
    {
     "name": "stdout",
     "output_type": "stream",
     "text": [
      "Rows: 303\n",
      "Columns: 6\n",
      "$ age                    \u001b[3m\u001b[90m<dbl>\u001b[39m\u001b[23m 63, 67, 67, 37, 41, 56, 62, 57, 63, 53, 57, 56,…\n",
      "$ sex                    \u001b[3m\u001b[90m<dbl>\u001b[39m\u001b[23m 1, 1, 1, 1, 0, 1, 0, 0, 1, 1, 1, 0, 1, 1, 1, 1,…\n",
      "$ resting_blood_pressure \u001b[3m\u001b[90m<dbl>\u001b[39m\u001b[23m 145, 160, 120, 130, 130, 120, 140, 120, 130, 14…\n",
      "$ cholesterol            \u001b[3m\u001b[90m<dbl>\u001b[39m\u001b[23m 233, 286, 229, 250, 204, 236, 268, 354, 254, 20…\n",
      "$ fasting_blood_sugar    \u001b[3m\u001b[90m<dbl>\u001b[39m\u001b[23m 1, 0, 0, 0, 0, 0, 0, 0, 0, 1, 0, 0, 1, 0, 1, 0,…\n",
      "$ diagnosis              \u001b[3m\u001b[90m<dbl>\u001b[39m\u001b[23m 0, 2, 1, 0, 0, 0, 3, 0, 2, 1, 0, 0, 2, 0, 0, 0,…\n"
     ]
    }
   ],
   "source": [
    "# Leave only age, sex, resting blood pressure, cholesterol, fasting blood sugar, diagnosis \n",
    "\n",
    "data_selected <- select(data, age, sex, resting_blood_pressure, cholesterol, fasting_blood_sugar, diagnosis)\n",
    "\n",
    "glimpse(data_selected)"
   ]
  },
  {
   "cell_type": "markdown",
   "id": "7ac29198-87a7-4575-9a1f-54a7d761622b",
   "metadata": {},
   "source": [
    "Since the data is already tidy, our next step is to explore the data. In order to better visualize the data, the variables that are actually categories but are stored as integers (i.e. sex, chest pain, and fasting blood sugar) will be converted to factor variables. The explanations of the numerical categories were provided by the authors of the data set, available at [https://archive.ics.uci.edu/dataset/45/heart+disease]."
   ]
  },
  {
   "cell_type": "code",
   "execution_count": 12,
   "id": "cd68db6e-bddc-43db-a5f2-3f95f833371d",
   "metadata": {},
   "outputs": [
    {
     "name": "stdout",
     "output_type": "stream",
     "text": [
      "Rows: 303\n",
      "Columns: 7\n",
      "$ age                    \u001b[3m\u001b[90m<dbl>\u001b[39m\u001b[23m 63, 67, 67, 37, 41, 56, 62, 57, 63, 53, 57, 56,…\n",
      "$ sex                    \u001b[3m\u001b[90m<fct>\u001b[39m\u001b[23m Male, Male, Male, Male, Female, Male, Female, F…\n",
      "$ chest_pain             \u001b[3m\u001b[90m<fct>\u001b[39m\u001b[23m Typical angina, Asymptomatic, Asymptomatic, Non…\n",
      "$ resting_blood_pressure \u001b[3m\u001b[90m<dbl>\u001b[39m\u001b[23m 145, 160, 120, 130, 130, 120, 140, 120, 130, 14…\n",
      "$ cholesterol            \u001b[3m\u001b[90m<dbl>\u001b[39m\u001b[23m 233, 286, 229, 250, 204, 236, 268, 354, 254, 20…\n",
      "$ fasting_blood_sugar    \u001b[3m\u001b[90m<fct>\u001b[39m\u001b[23m > 120 mg/dl, < 120 mg/dl, < 120 mg/dl, < 120 mg…\n",
      "$ diagnosis              \u001b[3m\u001b[90m<dbl>\u001b[39m\u001b[23m 0, 2, 1, 0, 0, 0, 3, 0, 2, 1, 0, 0, 2, 0, 0, 0,…\n"
     ]
    }
   ],
   "source": [
    "data_converted <- data_selected |>\n",
    "    mutate(sex = as_factor(sex)) |>\n",
    "    mutate(sex = fct_recode(sex, \"Male\" = \"1\", \"Female\" = \"0\"))\n",
    "\n",
    "data_converted <- data_converted |>\n",
    "    mutate(chest_pain = as_factor(chest_pain)) |>\n",
    "    mutate(chest_pain = fct_recode(chest_pain,\n",
    "                            \"Typical angina\" = \"1\",\n",
    "                            \"Atypical angina\" = \"2\",\n",
    "                            \"Non-anginal pain\" = \"3\",\n",
    "                            \"Asymptomatic\" = \"4\"))\n",
    "\n",
    "data_converted <- data_converted |>\n",
    "    mutate(fasting_blood_sugar = as_factor(fasting_blood_sugar)) |>\n",
    "    mutate(fasting_blood_sugar = fct_recode(fasting_blood_sugar,\n",
    "                            \"> 120 mg/dl\" = \"1\",\n",
    "                            \"< 120 mg/dl\" = \"0\"))\n",
    "\n",
    "\n",
    "glimpse(data_converted)"
   ]
  },
  {
   "cell_type": "markdown",
   "id": "87ebed5e-e8be-40a7-b149-bb4df2612105",
   "metadata": {},
   "source": [
    "Here we see that the data values were successfully renamed. Now we will summarize some information about the data, including\n",
    "\n",
    "summarize the data in at least one table (this is exploratory data analysis).\n",
    "An example of a useful table could be one that reports the number of observations in each class,\n",
    "the means of the predictor variables you plan to use in your analysis and how many rows have missing data."
   ]
  },
  {
   "cell_type": "code",
   "execution_count": null,
   "id": "4709f12c-4d8d-485e-932f-fdf5d358e8ef",
   "metadata": {},
   "outputs": [],
   "source": []
  },
  {
   "cell_type": "markdown",
   "id": "47688b63-76ce-4582-a123-a871f72254b4",
   "metadata": {},
   "source": [
    "Now we further explore the data by visualizing it in order to discern any patterns in the data.\n",
    "\n",
    "Using only training data, visualize the data with at least one plot relevant to the analysis you plan to do\n",
    "(this is exploratory data analysis). An example of a useful visualization could be one that compares the distributions\n",
    "of each of the predictor variables you plan to use in your analysis."
   ]
  },
  {
   "cell_type": "code",
   "execution_count": null,
   "id": "c4368c91-9c72-4359-90b7-ec533ecba328",
   "metadata": {},
   "outputs": [],
   "source": []
  }
 ],
 "metadata": {
  "kernelspec": {
   "display_name": "R",
   "language": "R",
   "name": "ir"
  },
  "language_info": {
   "codemirror_mode": "r",
   "file_extension": ".r",
   "mimetype": "text/x-r-source",
   "name": "R",
   "pygments_lexer": "r",
   "version": "4.3.1"
  }
 },
 "nbformat": 4,
 "nbformat_minor": 5
}
