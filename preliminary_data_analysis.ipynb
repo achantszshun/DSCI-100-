{
 "cells": [
  {
   "cell_type": "markdown",
   "id": "496c6b77-8fc6-40d1-a2a9-50f9f364e862",
   "metadata": {},
   "source": [
    "# Exploring heart disease data obtained by the Cleveland Clinic\n",
    "\n",
    "## Introduction\n",
    "- Provide some relevant background information on the topic so that someone unfamiliar with it will be prepared to understand the rest of your proposal\n",
    "- Clearly state the question you will try to answer with your project\n",
    "- Identify and describe the dataset that will be used to answer the question\n",
    "\n",
    "## Preliminary exploratory data analysis"
   ]
  },
  {
   "cell_type": "markdown",
   "id": "09a2c3e8-0e1a-4479-94bf-ca69814c4a42",
   "metadata": {},
   "source": [
    "First, we will load the tidyverse package to be able to perform data analysis and visualization."
   ]
  },
  {
   "cell_type": "code",
   "execution_count": 1,
   "id": "b976d1c0-4f18-43f6-b974-958351575e09",
   "metadata": {},
   "outputs": [
    {
     "name": "stderr",
     "output_type": "stream",
     "text": [
      "── \u001b[1mAttaching core tidyverse packages\u001b[22m ──────────────────────── tidyverse 2.0.0 ──\n",
      "\u001b[32m✔\u001b[39m \u001b[34mdplyr    \u001b[39m 1.1.3     \u001b[32m✔\u001b[39m \u001b[34mreadr    \u001b[39m 2.1.4\n",
      "\u001b[32m✔\u001b[39m \u001b[34mforcats  \u001b[39m 1.0.0     \u001b[32m✔\u001b[39m \u001b[34mstringr  \u001b[39m 1.5.0\n",
      "\u001b[32m✔\u001b[39m \u001b[34mggplot2  \u001b[39m 3.4.4     \u001b[32m✔\u001b[39m \u001b[34mtibble   \u001b[39m 3.2.1\n",
      "\u001b[32m✔\u001b[39m \u001b[34mlubridate\u001b[39m 1.9.3     \u001b[32m✔\u001b[39m \u001b[34mtidyr    \u001b[39m 1.3.0\n",
      "\u001b[32m✔\u001b[39m \u001b[34mpurrr    \u001b[39m 1.0.2     \n",
      "── \u001b[1mConflicts\u001b[22m ────────────────────────────────────────── tidyverse_conflicts() ──\n",
      "\u001b[31m✖\u001b[39m \u001b[34mdplyr\u001b[39m::\u001b[32mfilter()\u001b[39m masks \u001b[34mstats\u001b[39m::filter()\n",
      "\u001b[31m✖\u001b[39m \u001b[34mdplyr\u001b[39m::\u001b[32mlag()\u001b[39m    masks \u001b[34mstats\u001b[39m::lag()\n",
      "\u001b[36mℹ\u001b[39m Use the conflicted package (\u001b[3m\u001b[34m<http://conflicted.r-lib.org/>\u001b[39m\u001b[23m) to force all conflicts to become errors\n"
     ]
    }
   ],
   "source": [
    "library(tidyverse)"
   ]
  },
  {
   "cell_type": "markdown",
   "id": "8faddd58-300a-4e63-a35c-61482e7a6e1c",
   "metadata": {},
   "source": [
    "Next we read in the data from the file. Although the dataset was provided as a .data file from the original source, the file contains comma-separated values, so we use read_csv. Since the data has no column names, we will rename them all using information available at [https://archive.ics.uci.edu/dataset/45/heart+disease]."
   ]
  },
  {
   "cell_type": "code",
   "execution_count": 2,
   "id": "16571a66-93da-4a12-865b-5f47e4acf26e",
   "metadata": {},
   "outputs": [
    {
     "name": "stderr",
     "output_type": "stream",
     "text": [
      "\u001b[1mRows: \u001b[22m\u001b[34m303\u001b[39m \u001b[1mColumns: \u001b[22m\u001b[34m14\u001b[39m\n",
      "\u001b[36m──\u001b[39m \u001b[1mColumn specification\u001b[22m \u001b[36m────────────────────────────────────────────────────────\u001b[39m\n",
      "\u001b[1mDelimiter:\u001b[22m \",\"\n",
      "\u001b[31mchr\u001b[39m  (2): X12, X13\n",
      "\u001b[32mdbl\u001b[39m (12): X1, X2, X3, X4, X5, X6, X7, X8, X9, X10, X11, X14\n",
      "\n",
      "\u001b[36mℹ\u001b[39m Use `spec()` to retrieve the full column specification for this data.\n",
      "\u001b[36mℹ\u001b[39m Specify the column types or set `show_col_types = FALSE` to quiet this message.\n"
     ]
    }
   ],
   "source": [
    "data <- read_csv(\"processed.cleveland.data\", col_names = FALSE) |>\n",
    "    rename(age = X1, sex = X2, chest_pain = X3, resting_blood_pressure = X4,\n",
    "           cholesterol = X5, fasting_blood_sugar = X6, #1 if above 120mg/L, 0 if below\n",
    "           resting_ecg = X7, max_heart_rate = X8, exercise_angina = X9,\n",
    "           st_depression = X10, slope = X11, major_vessels = X12, thal = X13,\n",
    "           diagnosis = X14)"
   ]
  },
  {
   "cell_type": "markdown",
   "id": "b03b7f1f-534f-4e4c-912a-762836214f58",
   "metadata": {},
   "source": [
    "Now since we don't want to use every variable in the data set, we will select only those that we are interested in: age, sex, resting blood pressure, cholesterol, fasting blood sugar, and diagnosis. Also, the authors of the data have indicated that all values 1-4 of the diagnosis variable mean a positive diagnosis, so we will combine all those values into 1 to simplify the data."
   ]
  },
  {
   "cell_type": "code",
   "execution_count": 6,
   "id": "14be6ab0-1f54-41cb-8e81-8b3833496572",
   "metadata": {},
   "outputs": [
    {
     "name": "stdout",
     "output_type": "stream",
     "text": [
      "Rows: 303\n",
      "Columns: 6\n",
      "$ age                    \u001b[3m\u001b[90m<dbl>\u001b[39m\u001b[23m 63, 67, 67, 37, 41, 56, 62, 57, 63, 53, 57, 56,…\n",
      "$ sex                    \u001b[3m\u001b[90m<dbl>\u001b[39m\u001b[23m 1, 1, 1, 1, 0, 1, 0, 0, 1, 1, 1, 0, 1, 1, 1, 1,…\n",
      "$ resting_blood_pressure \u001b[3m\u001b[90m<dbl>\u001b[39m\u001b[23m 145, 160, 120, 130, 130, 120, 140, 120, 130, 14…\n",
      "$ cholesterol            \u001b[3m\u001b[90m<dbl>\u001b[39m\u001b[23m 233, 286, 229, 250, 204, 236, 268, 354, 254, 20…\n",
      "$ fasting_blood_sugar    \u001b[3m\u001b[90m<dbl>\u001b[39m\u001b[23m 1, 0, 0, 0, 0, 0, 0, 0, 0, 1, 0, 0, 1, 0, 1, 0,…\n",
      "$ diagnosis              \u001b[3m\u001b[90m<fct>\u001b[39m\u001b[23m 0, 1, 1, 0, 0, 0, 1, 0, 1, 1, 0, 0, 1, 0, 0, 0,…\n"
     ]
    }
   ],
   "source": [
    "data_selected <- select(data, age, sex, resting_blood_pressure, cholesterol, fasting_blood_sugar, diagnosis) |>\n",
    "    mutate(diagnosis = as_factor(diagnosis)) |>\n",
    "    mutate(diagnosis = fct_recode(diagnosis, \"1\" = \"2\", \"1\" = \"3\", \"1\" = \"4\"))\n",
    "\n",
    "glimpse(data_selected)"
   ]
  },
  {
   "cell_type": "markdown",
   "id": "7ac29198-87a7-4575-9a1f-54a7d761622b",
   "metadata": {},
   "source": [
    "Since the data is already tidy, our next step is to explore the data. In order to better visualize the data, the variables that are actually categories but are stored as integers (i.e. sex, chest pain, and fasting blood sugar) will be converted to factor variables. The explanations of the numerical categories were provided by the authors of the data set, available at [https://archive.ics.uci.edu/dataset/45/heart+disease]."
   ]
  },
  {
   "cell_type": "code",
   "execution_count": 8,
   "id": "cd68db6e-bddc-43db-a5f2-3f95f833371d",
   "metadata": {},
   "outputs": [
    {
     "name": "stdout",
     "output_type": "stream",
     "text": [
      "Rows: 303\n",
      "Columns: 6\n",
      "$ age                    \u001b[3m\u001b[90m<dbl>\u001b[39m\u001b[23m 63, 67, 67, 37, 41, 56, 62, 57, 63, 53, 57, 56,…\n",
      "$ sex                    \u001b[3m\u001b[90m<fct>\u001b[39m\u001b[23m Male, Male, Male, Male, Female, Male, Female, F…\n",
      "$ resting_blood_pressure \u001b[3m\u001b[90m<dbl>\u001b[39m\u001b[23m 145, 160, 120, 130, 130, 120, 140, 120, 130, 14…\n",
      "$ cholesterol            \u001b[3m\u001b[90m<dbl>\u001b[39m\u001b[23m 233, 286, 229, 250, 204, 236, 268, 354, 254, 20…\n",
      "$ fasting_blood_sugar    \u001b[3m\u001b[90m<fct>\u001b[39m\u001b[23m > 120 mg/dl, < 120 mg/dl, < 120 mg/dl, < 120 mg…\n",
      "$ diagnosis              \u001b[3m\u001b[90m<fct>\u001b[39m\u001b[23m 0, 1, 1, 0, 0, 0, 1, 0, 1, 1, 0, 0, 1, 0, 0, 0,…\n"
     ]
    }
   ],
   "source": [
    "data_converted <- data_selected |>\n",
    "    mutate(sex = as_factor(sex)) |>\n",
    "    mutate(sex = fct_recode(sex, \"Male\" = \"1\", \"Female\" = \"0\"))\n",
    "\n",
    "data_converted <- data_converted |>\n",
    "    mutate(fasting_blood_sugar = as_factor(fasting_blood_sugar)) |>\n",
    "    mutate(fasting_blood_sugar = fct_recode(fasting_blood_sugar,\n",
    "                            \"> 120 mg/dl\" = \"1\",\n",
    "                            \"< 120 mg/dl\" = \"0\"))\n",
    "\n",
    "glimpse(data_converted)"
   ]
  },
  {
   "cell_type": "markdown",
   "id": "87ebed5e-e8be-40a7-b149-bb4df2612105",
   "metadata": {},
   "source": [
    "Here we see that the data values were successfully renamed. Now we will summarize some information about the data, including counting the number of observations for each diagnosis, the number of males vs. females, the average of our numerical predictor variables (age, blood presure and cholesterol), and the number of rows with missing values in the data set."
   ]
  },
  {
   "cell_type": "code",
   "execution_count": 12,
   "id": "4709f12c-4d8d-485e-932f-fdf5d358e8ef",
   "metadata": {},
   "outputs": [
    {
     "data": {
      "text/html": [
       "<table class=\"dataframe\">\n",
       "<caption>A tibble: 2 × 2</caption>\n",
       "<thead>\n",
       "\t<tr><th scope=col>diagnosis</th><th scope=col>count</th></tr>\n",
       "\t<tr><th scope=col>&lt;fct&gt;</th><th scope=col>&lt;int&gt;</th></tr>\n",
       "</thead>\n",
       "<tbody>\n",
       "\t<tr><td>0</td><td>164</td></tr>\n",
       "\t<tr><td>1</td><td>139</td></tr>\n",
       "</tbody>\n",
       "</table>\n"
      ],
      "text/latex": [
       "A tibble: 2 × 2\n",
       "\\begin{tabular}{ll}\n",
       " diagnosis & count\\\\\n",
       " <fct> & <int>\\\\\n",
       "\\hline\n",
       "\t 0 & 164\\\\\n",
       "\t 1 & 139\\\\\n",
       "\\end{tabular}\n"
      ],
      "text/markdown": [
       "\n",
       "A tibble: 2 × 2\n",
       "\n",
       "| diagnosis &lt;fct&gt; | count &lt;int&gt; |\n",
       "|---|---|\n",
       "| 0 | 164 |\n",
       "| 1 | 139 |\n",
       "\n"
      ],
      "text/plain": [
       "  diagnosis count\n",
       "1 0         164  \n",
       "2 1         139  "
      ]
     },
     "metadata": {},
     "output_type": "display_data"
    },
    {
     "data": {
      "text/html": [
       "<table class=\"dataframe\">\n",
       "<caption>A tibble: 2 × 2</caption>\n",
       "<thead>\n",
       "\t<tr><th scope=col>sex</th><th scope=col>count</th></tr>\n",
       "\t<tr><th scope=col>&lt;fct&gt;</th><th scope=col>&lt;int&gt;</th></tr>\n",
       "</thead>\n",
       "<tbody>\n",
       "\t<tr><td>Female</td><td> 97</td></tr>\n",
       "\t<tr><td>Male  </td><td>206</td></tr>\n",
       "</tbody>\n",
       "</table>\n"
      ],
      "text/latex": [
       "A tibble: 2 × 2\n",
       "\\begin{tabular}{ll}\n",
       " sex & count\\\\\n",
       " <fct> & <int>\\\\\n",
       "\\hline\n",
       "\t Female &  97\\\\\n",
       "\t Male   & 206\\\\\n",
       "\\end{tabular}\n"
      ],
      "text/markdown": [
       "\n",
       "A tibble: 2 × 2\n",
       "\n",
       "| sex &lt;fct&gt; | count &lt;int&gt; |\n",
       "|---|---|\n",
       "| Female |  97 |\n",
       "| Male   | 206 |\n",
       "\n"
      ],
      "text/plain": [
       "  sex    count\n",
       "1 Female  97  \n",
       "2 Male   206  "
      ]
     },
     "metadata": {},
     "output_type": "display_data"
    },
    {
     "data": {
      "text/html": [
       "<table class=\"dataframe\">\n",
       "<caption>A tibble: 1 × 3</caption>\n",
       "<thead>\n",
       "\t<tr><th scope=col>mean_age</th><th scope=col>mean_blood_pressure</th><th scope=col>mean_cholesterol</th></tr>\n",
       "\t<tr><th scope=col>&lt;dbl&gt;</th><th scope=col>&lt;dbl&gt;</th><th scope=col>&lt;dbl&gt;</th></tr>\n",
       "</thead>\n",
       "<tbody>\n",
       "\t<tr><td>54.43894</td><td>131.6898</td><td>246.6931</td></tr>\n",
       "</tbody>\n",
       "</table>\n"
      ],
      "text/latex": [
       "A tibble: 1 × 3\n",
       "\\begin{tabular}{lll}\n",
       " mean\\_age & mean\\_blood\\_pressure & mean\\_cholesterol\\\\\n",
       " <dbl> & <dbl> & <dbl>\\\\\n",
       "\\hline\n",
       "\t 54.43894 & 131.6898 & 246.6931\\\\\n",
       "\\end{tabular}\n"
      ],
      "text/markdown": [
       "\n",
       "A tibble: 1 × 3\n",
       "\n",
       "| mean_age &lt;dbl&gt; | mean_blood_pressure &lt;dbl&gt; | mean_cholesterol &lt;dbl&gt; |\n",
       "|---|---|---|\n",
       "| 54.43894 | 131.6898 | 246.6931 |\n",
       "\n"
      ],
      "text/plain": [
       "  mean_age mean_blood_pressure mean_cholesterol\n",
       "1 54.43894 131.6898            246.6931        "
      ]
     },
     "metadata": {},
     "output_type": "display_data"
    },
    {
     "data": {
      "text/html": [
       "<table class=\"dataframe\">\n",
       "<caption>A tibble: 1 × 1</caption>\n",
       "<thead>\n",
       "\t<tr><th scope=col>number_of_missing_values</th></tr>\n",
       "\t<tr><th scope=col>&lt;int&gt;</th></tr>\n",
       "</thead>\n",
       "<tbody>\n",
       "\t<tr><td>0</td></tr>\n",
       "</tbody>\n",
       "</table>\n"
      ],
      "text/latex": [
       "A tibble: 1 × 1\n",
       "\\begin{tabular}{l}\n",
       " number\\_of\\_missing\\_values\\\\\n",
       " <int>\\\\\n",
       "\\hline\n",
       "\t 0\\\\\n",
       "\\end{tabular}\n"
      ],
      "text/markdown": [
       "\n",
       "A tibble: 1 × 1\n",
       "\n",
       "| number_of_missing_values &lt;int&gt; |\n",
       "|---|\n",
       "| 0 |\n",
       "\n"
      ],
      "text/plain": [
       "  number_of_missing_values\n",
       "1 0                       "
      ]
     },
     "metadata": {},
     "output_type": "display_data"
    }
   ],
   "source": [
    "number_of_observations <- data_selected |>\n",
    "    group_by(diagnosis) |>\n",
    "    summarize(count = n())\n",
    "\n",
    "genders <- data_converted |>\n",
    "    group_by(sex) |>\n",
    "    summarize(count = n())\n",
    "\n",
    "mean_values <- data_selected |>\n",
    "    select(age, resting_blood_pressure, cholesterol) |>\n",
    "    summarize(mean_age = mean(age), mean_blood_pressure = mean(resting_blood_pressure), mean_cholesterol = mean(cholesterol))\n",
    "\n",
    "missing_data <- data_selected |>\n",
    "    filter(age == -9.0 | sex == -9.0 | resting_blood_pressure == -9.0 |\n",
    "           cholesterol == -9.0 | fasting_blood_sugar == -9.0 | diagnosis == -9.0) |>\n",
    "    summarize(number_of_missing_values = n())\n",
    "\n",
    "number_of_observations\n",
    "genders\n",
    "mean_values\n",
    "missing_data"
   ]
  },
  {
   "cell_type": "markdown",
   "id": "4b7c6fa7-f3a3-4c93-81bb-4b4a70298efe",
   "metadata": {},
   "source": [
    "So we see that, luckily, no rows have missing data. Additionally, the classes appear to be roughly balanced, with around the same number of positive diagnoses (diagnosis = 1) as negative (diagnosis = 0)."
   ]
  },
  {
   "cell_type": "markdown",
   "id": "47688b63-76ce-4582-a123-a871f72254b4",
   "metadata": {},
   "source": [
    "Now we further explore the data by visualizing it in order to discern any patterns in the data.\n",
    "\n",
    "Using only training data, visualize the data with at least one plot relevant to the analysis you plan to do\n",
    "(this is exploratory data analysis). An example of a useful visualization could be one that compares the distributions\n",
    "of each of the predictor variables you plan to use in your analysis."
   ]
  },
  {
   "cell_type": "code",
   "execution_count": null,
   "id": "c4368c91-9c72-4359-90b7-ec533ecba328",
   "metadata": {},
   "outputs": [],
   "source": []
  }
 ],
 "metadata": {
  "kernelspec": {
   "display_name": "R",
   "language": "R",
   "name": "ir"
  },
  "language_info": {
   "codemirror_mode": "r",
   "file_extension": ".r",
   "mimetype": "text/x-r-source",
   "name": "R",
   "pygments_lexer": "r",
   "version": "4.3.1"
  }
 },
 "nbformat": 4,
 "nbformat_minor": 5
}
